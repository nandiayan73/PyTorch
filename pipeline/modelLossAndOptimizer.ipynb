{
 "cells": [
  {
   "cell_type": "code",
   "execution_count": 2,
   "metadata": {},
   "outputs": [],
   "source": [
    "import torch\n",
    "import torch.nn as nn"
   ]
  },
  {
   "cell_type": "markdown",
   "metadata": {},
   "source": [
    "***dataset***"
   ]
  },
  {
   "cell_type": "code",
   "execution_count": 3,
   "metadata": {},
   "outputs": [
    {
     "name": "stdout",
     "output_type": "stream",
     "text": [
      "torch.Size([4, 1]) torch.Size([4, 1])\n"
     ]
    }
   ],
   "source": [
    "# 0) Training samples, watch the shape!\n",
    "x = torch.tensor([[1], [2], [3], [4]], dtype=torch.float32)\n",
    "y = torch.tensor([[2], [4], [6], [8]], dtype=torch.float32)\n",
    "print(str(x.shape)+\" \"+str(y.shape))\n"
   ]
  },
  {
   "cell_type": "code",
   "execution_count": 4,
   "metadata": {},
   "outputs": [
    {
     "name": "stdout",
     "output_type": "stream",
     "text": [
      "4\n"
     ]
    }
   ],
   "source": [
    "n_samples,n_features=x.shape\n",
    "print(n_samples)\n",
    "input_size=n_features\n",
    "output_size=n_features\n"
   ]
  },
  {
   "cell_type": "code",
   "execution_count": 5,
   "metadata": {},
   "outputs": [],
   "source": [
    "class LinearRegression(nn.Module):\n",
    "    def __init__(self,input_dim,output_dim):\n",
    "        super(LinearRegression,self).__init__()\n",
    "        self.lin=nn.Linear(input_dim,output_dim)\n",
    "    def forward(self,x):\n",
    "        return self.lin(x)"
   ]
  },
  {
   "cell_type": "code",
   "execution_count": 6,
   "metadata": {},
   "outputs": [],
   "source": [
    "model=LinearRegression(input_size,output_size)\n"
   ]
  },
  {
   "cell_type": "code",
   "execution_count": 7,
   "metadata": {},
   "outputs": [],
   "source": [
    "learning_rate=0.01\n",
    "n_iters=100\n",
    "loss=nn.MSELoss()\n",
    "optimizer=torch.optim.SGD(model.parameters(),lr=learning_rate)"
   ]
  },
  {
   "cell_type": "code",
   "execution_count": 8,
   "metadata": {},
   "outputs": [
    {
     "name": "stdout",
     "output_type": "stream",
     "text": [
      "epoch no: 0 ,loss= 56.6,w=-0.555\n",
      "epoch no: 2 ,loss= 27.4,w=0.074\n",
      "epoch no: 4 ,loss= 13.4,w=0.512\n",
      "epoch no: 6 ,loss= 6.63,w=0.816\n",
      "epoch no: 8 ,loss= 3.38,w=1.028\n",
      "epoch no: 10 ,loss= 1.81,w=1.176\n",
      "epoch no: 12 ,loss= 1.05,w=1.280\n",
      "epoch no: 14 ,loss= 0.684,w=1.353\n",
      "epoch no: 16 ,loss= 0.505,w=1.404\n",
      "epoch no: 18 ,loss= 0.417,w=1.441\n",
      "epoch no: 20 ,loss= 0.372,w=1.467\n",
      "epoch no: 22 ,loss= 0.349,w=1.486\n",
      "epoch no: 24 ,loss= 0.335,w=1.500\n",
      "epoch no: 26 ,loss= 0.327,w=1.511\n",
      "epoch no: 28 ,loss= 0.321,w=1.519\n",
      "epoch no: 30 ,loss= 0.316,w=1.526\n",
      "epoch no: 32 ,loss= 0.312,w=1.531\n",
      "epoch no: 34 ,loss= 0.308,w=1.536\n",
      "epoch no: 36 ,loss= 0.304,w=1.540\n",
      "epoch no: 38 ,loss= 0.3,w=1.543\n",
      "epoch no: 40 ,loss= 0.297,w=1.547\n",
      "epoch no: 42 ,loss= 0.293,w=1.550\n",
      "epoch no: 44 ,loss= 0.29,w=1.553\n",
      "epoch no: 46 ,loss= 0.286,w=1.556\n",
      "epoch no: 48 ,loss= 0.283,w=1.558\n",
      "epoch no: 50 ,loss= 0.279,w=1.561\n",
      "epoch no: 52 ,loss= 0.276,w=1.564\n",
      "epoch no: 54 ,loss= 0.273,w=1.566\n",
      "epoch no: 56 ,loss= 0.27,w=1.569\n",
      "epoch no: 58 ,loss= 0.266,w=1.572\n",
      "epoch no: 60 ,loss= 0.263,w=1.574\n",
      "epoch no: 62 ,loss= 0.26,w=1.577\n",
      "epoch no: 64 ,loss= 0.257,w=1.579\n",
      "epoch no: 66 ,loss= 0.254,w=1.582\n",
      "epoch no: 68 ,loss= 0.251,w=1.584\n",
      "epoch no: 70 ,loss= 0.248,w=1.587\n",
      "epoch no: 72 ,loss= 0.245,w=1.589\n",
      "epoch no: 74 ,loss= 0.242,w=1.592\n",
      "epoch no: 76 ,loss= 0.239,w=1.594\n",
      "epoch no: 78 ,loss= 0.236,w=1.597\n",
      "epoch no: 80 ,loss= 0.233,w=1.599\n",
      "epoch no: 82 ,loss= 0.231,w=1.601\n",
      "epoch no: 84 ,loss= 0.228,w=1.604\n",
      "epoch no: 86 ,loss= 0.225,w=1.606\n",
      "epoch no: 88 ,loss= 0.223,w=1.609\n",
      "epoch no: 90 ,loss= 0.22,w=1.611\n",
      "epoch no: 92 ,loss= 0.217,w=1.613\n",
      "epoch no: 94 ,loss= 0.215,w=1.616\n",
      "epoch no: 96 ,loss= 0.212,w=1.618\n",
      "epoch no: 98 ,loss= 0.21,w=1.620\n",
      "tensor([[2.7370],\n",
      "        [4.3571],\n",
      "        [5.9773],\n",
      "        [7.5974]], grad_fn=<AddmmBackward0>)\n"
     ]
    }
   ],
   "source": [
    "for epoch in range(n_iters):\n",
    "    y_pred=model(x)\n",
    "\n",
    "    l=loss(y,y_pred)\n",
    "\n",
    "    # gradient calculation:\n",
    "    l.backward()\n",
    "\n",
    "    # with torch.no_grad():\n",
    "    #     w-= learning_rate * w.grad\n",
    "    # update weights\n",
    "    optimizer.step()\n",
    "\n",
    "    # Zero the gradient:\n",
    "    # w.grad.zero_()\n",
    "    optimizer.zero_grad()\n",
    "\n",
    "    if(epoch%2==0):\n",
    "        [w,b]=model.parameters()\n",
    "        print(f\"epoch no: {epoch} ,loss= {l:.3},w={w[0][0].item():.3f}\")\n",
    "print(y_pred)"
   ]
  },
  {
   "cell_type": "code",
   "execution_count": 9,
   "metadata": {},
   "outputs": [
    {
     "name": "stdout",
     "output_type": "stream",
     "text": [
      "9.219891548156738\n"
     ]
    }
   ],
   "source": [
    "X_test = torch.tensor([[5.0]], dtype=torch.float32)\n",
    "y_pred=model(X_test).item()\n",
    "print(y_pred)"
   ]
  },
  {
   "cell_type": "code",
   "execution_count": null,
   "metadata": {},
   "outputs": [],
   "source": []
  }
 ],
 "metadata": {
  "kernelspec": {
   "display_name": "Python 3",
   "language": "python",
   "name": "python3"
  },
  "language_info": {
   "codemirror_mode": {
    "name": "ipython",
    "version": 3
   },
   "file_extension": ".py",
   "mimetype": "text/x-python",
   "name": "python",
   "nbconvert_exporter": "python",
   "pygments_lexer": "ipython3",
   "version": "3.11.4"
  }
 },
 "nbformat": 4,
 "nbformat_minor": 2
}

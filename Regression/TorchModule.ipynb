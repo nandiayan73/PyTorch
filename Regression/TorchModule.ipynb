{
 "cells": [
  {
   "cell_type": "code",
   "execution_count": 1,
   "metadata": {},
   "outputs": [],
   "source": [
    "import torch\n",
    "import torch.nn as nn\n"
   ]
  },
  {
   "cell_type": "code",
   "execution_count": 2,
   "metadata": {},
   "outputs": [
    {
     "name": "stdout",
     "output_type": "stream",
     "text": [
      "torch.Size([4, 1]) torch.Size([4, 1])\n"
     ]
    }
   ],
   "source": [
    "x = torch.tensor([[1], [2], [3], [4]], dtype=torch.float32)\n",
    "y = torch.tensor([[2], [4], [6], [8]], dtype=torch.float32)\n",
    "\n"
   ]
  },
  {
   "cell_type": "code",
   "execution_count": 3,
   "metadata": {},
   "outputs": [],
   "source": [
    "n_samples,n_features=x.shape"
   ]
  },
  {
   "cell_type": "code",
   "execution_count": 14,
   "metadata": {},
   "outputs": [],
   "source": [
    "class LinearRegression(nn.Module):\n",
    "    def __init__(self,input_dim,output_dim):\n",
    "        super().__init__()\n",
    "        self.lin=nn.Linear(input_dim,output_dim)\n",
    "    def forward(self,x):\n",
    "        return self.lin(x)\n",
    "    "
   ]
  },
  {
   "cell_type": "code",
   "execution_count": 16,
   "metadata": {},
   "outputs": [],
   "source": [
    "model=LinearRegression(n_features,n_features)"
   ]
  },
  {
   "cell_type": "code",
   "execution_count": 18,
   "metadata": {},
   "outputs": [],
   "source": [
    "learning_rate=0.01\n",
    "n_iters=100\n",
    "loss=nn.MSELoss()\n",
    "optimizer=torch.optim.SGD(model.parameters(),lr=learning_rate)"
   ]
  },
  {
   "cell_type": "code",
   "execution_count": 19,
   "metadata": {},
   "outputs": [
    {
     "name": "stdout",
     "output_type": "stream",
     "text": [
      "epoch no: 0 ,loss= 36.7,w=33.564\n",
      "epoch no: 2 ,loss= 6.42e+03,w=23.918\n",
      "epoch no: 4 ,loss= 3.09e+03,w=17.225\n",
      "epoch no: 6 ,loss= 1.49e+03,w=12.580\n",
      "epoch no: 8 ,loss= 7.16e+02,w=9.357\n",
      "epoch no: 10 ,loss= 3.45e+02,w=7.121\n",
      "epoch no: 12 ,loss= 1.66e+02,w=5.569\n",
      "epoch no: 14 ,loss= 80.0,w=4.492\n",
      "epoch no: 16 ,loss= 38.5,w=3.745\n",
      "epoch no: 18 ,loss= 18.5,w=3.226\n",
      "epoch no: 20 ,loss= 8.93,w=2.866\n",
      "epoch no: 22 ,loss= 4.3,w=2.616\n",
      "epoch no: 24 ,loss= 2.07,w=2.443\n",
      "epoch no: 26 ,loss= 1.0,w=2.323\n",
      "epoch no: 28 ,loss= 0.483,w=2.239\n",
      "epoch no: 30 ,loss= 0.234,w=2.181\n",
      "epoch no: 32 ,loss= 0.115,w=2.140\n",
      "epoch no: 34 ,loss= 0.057,w=2.112\n",
      "epoch no: 36 ,loss= 0.0292,w=2.092\n",
      "epoch no: 38 ,loss= 0.0158,w=2.079\n",
      "epoch no: 40 ,loss= 0.00933,w=2.069\n",
      "epoch no: 42 ,loss= 0.0062,w=2.062\n",
      "epoch no: 44 ,loss= 0.00466,w=2.058\n",
      "epoch no: 46 ,loss= 0.00391,w=2.054\n",
      "epoch no: 48 ,loss= 0.00352,w=2.052\n",
      "epoch no: 50 ,loss= 0.00332,w=2.050\n",
      "epoch no: 52 ,loss= 0.0032,w=2.049\n",
      "epoch no: 54 ,loss= 0.00312,w=2.048\n",
      "epoch no: 56 ,loss= 0.00307,w=2.047\n",
      "epoch no: 58 ,loss= 0.00302,w=2.046\n",
      "epoch no: 60 ,loss= 0.00298,w=2.046\n",
      "epoch no: 62 ,loss= 0.00295,w=2.045\n",
      "epoch no: 64 ,loss= 0.00291,w=2.045\n",
      "epoch no: 66 ,loss= 0.00288,w=2.045\n",
      "epoch no: 68 ,loss= 0.00284,w=2.044\n",
      "epoch no: 70 ,loss= 0.00281,w=2.044\n",
      "epoch no: 72 ,loss= 0.00277,w=2.044\n",
      "epoch no: 74 ,loss= 0.00274,w=2.043\n",
      "epoch no: 76 ,loss= 0.00271,w=2.043\n",
      "epoch no: 78 ,loss= 0.00268,w=2.043\n",
      "epoch no: 80 ,loss= 0.00264,w=2.043\n",
      "epoch no: 82 ,loss= 0.00261,w=2.042\n",
      "epoch no: 84 ,loss= 0.00258,w=2.042\n",
      "epoch no: 86 ,loss= 0.00255,w=2.042\n",
      "epoch no: 88 ,loss= 0.00252,w=2.042\n",
      "epoch no: 90 ,loss= 0.00249,w=2.041\n",
      "epoch no: 92 ,loss= 0.00246,w=2.041\n",
      "epoch no: 94 ,loss= 0.00243,w=2.041\n",
      "epoch no: 96 ,loss= 0.0024,w=2.041\n",
      "epoch no: 98 ,loss= 0.00237,w=2.040\n",
      "tensor([[1.9216],\n",
      "        [3.9620],\n",
      "        [6.0024],\n",
      "        [8.0428]], grad_fn=<AddmmBackward0>)\n"
     ]
    }
   ],
   "source": [
    "for epoch in range(n_iters):\n",
    "    y_pred=model(x)\n",
    "\n",
    "    l=loss(y,y_pred)\n",
    "\n",
    "    # gradient calculation:\n",
    "    l.backward()\n",
    "\n",
    "    # with torch.no_grad():\n",
    "    #     w-= learning_rate * w.grad\n",
    "    # update weights\n",
    "    optimizer.step()\n",
    "\n",
    "    # Zero the gradient:\n",
    "    # w.grad.zero_()\n",
    "    optimizer.zero_grad()\n",
    "\n",
    "    if(epoch%2==0):\n",
    "        [w,b]=model.parameters()\n",
    "        print(f\"epoch no: {epoch} ,loss= {l:.3},w={w[0][0].item():.3f}\")\n",
    "print(y_pred)"
   ]
  },
  {
   "cell_type": "code",
   "execution_count": 21,
   "metadata": {},
   "outputs": [
    {
     "name": "stdout",
     "output_type": "stream",
     "text": [
      "tensor([[10.0830]], grad_fn=<AddmmBackward0>)\n"
     ]
    }
   ],
   "source": [
    "print(model(torch.tensor([[5]],dtype=torch.float32)))"
   ]
  }
 ],
 "metadata": {
  "kernelspec": {
   "display_name": "Python 3",
   "language": "python",
   "name": "python3"
  },
  "language_info": {
   "codemirror_mode": {
    "name": "ipython",
    "version": 3
   },
   "file_extension": ".py",
   "mimetype": "text/x-python",
   "name": "python",
   "nbconvert_exporter": "python",
   "pygments_lexer": "ipython3",
   "version": "3.11.4"
  }
 },
 "nbformat": 4,
 "nbformat_minor": 2
}

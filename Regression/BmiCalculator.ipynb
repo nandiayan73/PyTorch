{
 "cells": [
  {
   "cell_type": "code",
   "execution_count": 1,
   "metadata": {},
   "outputs": [],
   "source": [
    "import torch"
   ]
  },
  {
   "cell_type": "code",
   "execution_count": 2,
   "metadata": {},
   "outputs": [],
   "source": [
    "ht=torch.tensor([1.67,1.77,1.89,1.56,1.89,1.78],dtype=torch.float32)\n",
    "wt=torch.tensor([77,68,98,54,65,90],dtype=torch.float32)\n",
    "\n",
    "bmi=torch.tensor([27.60,21.70,27.43,22.18,18.19,28.40],dtype=torch.float32)\n"
   ]
  },
  {
   "cell_type": "code",
   "execution_count": 3,
   "metadata": {},
   "outputs": [],
   "source": [
    "w=torch.tensor(1.0,requires_grad=True)\n",
    "\n",
    "def forward(wt,ht):\n",
    "    return (w*wt/(ht)**2)\n",
    "\n",
    "def loss(y_pred,y):\n",
    "    return ((y_pred-y)**2).mean()\n"
   ]
  },
  {
   "cell_type": "code",
   "execution_count": 4,
   "metadata": {},
   "outputs": [],
   "source": [
    "learning_rate=0.01\n",
    "n_iters=20"
   ]
  },
  {
   "cell_type": "code",
   "execution_count": 5,
   "metadata": {},
   "outputs": [
    {
     "name": "stdout",
     "output_type": "stream",
     "text": [
      "tensor([27.6095, 21.7051, 27.4348, 22.1894, 18.1966, 28.4055],\n",
      "       grad_fn=<DivBackward0>)\n",
      "epoch no: 0 ,loss= 5e-05,w=1.0\n",
      "tensor([27.7005, 21.7767, 27.5253, 22.2625, 18.2566, 28.4991],\n",
      "       grad_fn=<DivBackward0>)\n",
      "tensor([28.8884, 22.7106, 28.7058, 23.2173, 19.0395, 29.7214],\n",
      "       grad_fn=<DivBackward0>)\n",
      "epoch no: 2 ,loss= 1.31,w=1.61\n",
      "tensor([44.3974, 34.9030, 44.1166, 35.6816, 29.2610, 45.6775],\n",
      "       grad_fn=<DivBackward0>)\n",
      "tensor([246.8628, 194.0708, 245.3016, 198.4004, 162.7000, 253.9805],\n",
      "       grad_fn=<DivBackward0>)\n",
      "epoch no: 4 ,loss= 3.8e+04,w=1.05e+02\n",
      "tensor([2889.9951, 2271.9653, 2871.7180, 2322.6509, 1904.7109, 2973.3213],\n",
      "       grad_fn=<DivBackward0>)\n",
      "tensor([37395.3906, 29398.3281, 37158.8906, 30054.1797, 24646.2031, 38473.5977],\n",
      "       grad_fn=<DivBackward0>)\n",
      "epoch no: 6 ,loss= 1.1e+09,w=1.77e+04\n",
      "tensor([487854.2500, 383525.8438, 484768.9062, 392082.0000, 321530.4062,\n",
      "        501920.3750], grad_fn=<DivBackward0>)\n",
      "tensor([6368475.5000, 5006567.0000, 6328199.0000, 5118259.0000, 4197275.0000,\n",
      "        6552095.5000], grad_fn=<DivBackward0>)\n",
      "epoch no: 8 ,loss= 3.21e+13,w=3.01e+06\n",
      "tensor([83138432., 65359156., 82612640., 66817260., 54794100., 85535528.],\n",
      "       grad_fn=<DivBackward0>)\n",
      "tensor([1.0854e+09, 8.5325e+08, 1.0785e+09, 8.7228e+08, 7.1532e+08, 1.1166e+09],\n",
      "       grad_fn=<DivBackward0>)\n",
      "epoch no: 10 ,loss= 9.31e+17,w=5.13e+08\n",
      "tensor([1.4169e+10, 1.1139e+10, 1.4079e+10, 1.1387e+10, 9.3383e+09, 1.4577e+10],\n",
      "       grad_fn=<DivBackward0>)\n",
      "tensor([1.8497e+11, 1.4542e+11, 1.8380e+11, 1.4866e+11, 1.2191e+11, 1.9031e+11],\n",
      "       grad_fn=<DivBackward0>)\n",
      "epoch no: 12 ,loss= 2.71e+22,w=8.75e+10\n",
      "tensor([2.4148e+12, 1.8984e+12, 2.3995e+12, 1.9407e+12, 1.5915e+12, 2.4844e+12],\n",
      "       grad_fn=<DivBackward0>)\n",
      "tensor([3.1524e+13, 2.4783e+13, 3.1325e+13, 2.5335e+13, 2.0777e+13, 3.2433e+13],\n",
      "       grad_fn=<DivBackward0>)\n",
      "epoch no: 14 ,loss= 7.86e+26,w=1.49e+13\n",
      "tensor([4.1154e+14, 3.2353e+14, 4.0894e+14, 3.3075e+14, 2.7123e+14, 4.2340e+14],\n",
      "       grad_fn=<DivBackward0>)\n",
      "tensor([5.3725e+15, 4.2236e+15, 5.3385e+15, 4.3178e+15, 3.5409e+15, 5.5274e+15],\n",
      "       grad_fn=<DivBackward0>)\n",
      "epoch no: 16 ,loss= 2.28e+31,w=2.54e+15\n",
      "tensor([7.0137e+16, 5.5138e+16, 6.9693e+16, 5.6368e+16, 4.6225e+16, 7.2159e+16],\n",
      "       grad_fn=<DivBackward0>)\n",
      "tensor([9.1562e+17, 7.1981e+17, 9.0983e+17, 7.3587e+17, 6.0346e+17, 9.4202e+17],\n",
      "       grad_fn=<DivBackward0>)\n",
      "epoch no: 18 ,loss= 6.63e+35,w=4.33e+17\n",
      "tensor([1.1953e+19, 9.3970e+18, 1.1878e+19, 9.6066e+18, 7.8780e+18, 1.2298e+19],\n",
      "       grad_fn=<DivBackward0>)\n",
      "tensor([27.6000, 21.7000, 27.4300, 22.1800, 18.1900, 28.4000])\n",
      "tensor([1.1953e+19, 9.3970e+18, 1.1878e+19, 9.6066e+18, 7.8780e+18, 1.2298e+19],\n",
      "       grad_fn=<DivBackward0>)\n"
     ]
    }
   ],
   "source": [
    "for epoch in range(n_iters):\n",
    "    y_pred=forward(wt,ht)\n",
    "    print(y_pred)\n",
    "\n",
    "    l=loss(y_pred,bmi)\n",
    "\n",
    "    l.backward()\n",
    "\n",
    "    with torch.no_grad():\n",
    "        w+=learning_rate* w.grad\n",
    "    \n",
    "    w.grad.zero_()\n",
    "\n",
    "    if(epoch%2==0):\n",
    "        print(f\"epoch no: {epoch} ,loss= {l:.3},w={w:.3}\")\n",
    "print(bmi)\n",
    "print(y_pred)"
   ]
  }
 ],
 "metadata": {
  "kernelspec": {
   "display_name": "Python 3",
   "language": "python",
   "name": "python3"
  },
  "language_info": {
   "codemirror_mode": {
    "name": "ipython",
    "version": 3
   },
   "file_extension": ".py",
   "mimetype": "text/x-python",
   "name": "python",
   "nbconvert_exporter": "python",
   "pygments_lexer": "ipython3",
   "version": "3.11.4"
  }
 },
 "nbformat": 4,
 "nbformat_minor": 2
}

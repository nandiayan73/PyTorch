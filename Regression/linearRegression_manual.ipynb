{
 "cells": [
  {
   "cell_type": "code",
   "execution_count": 1,
   "metadata": {},
   "outputs": [],
   "source": [
    "import numpy as np"
   ]
  },
  {
   "cell_type": "code",
   "execution_count": 2,
   "metadata": {},
   "outputs": [
    {
     "name": "stdout",
     "output_type": "stream",
     "text": [
      "132.0\n",
      "2.0\n"
     ]
    }
   ],
   "source": [
    "a=np.array([1,2,3,4,5,1])\n",
    "b=np.array([6,7,8,9,10,2])\n",
    "c=np.array([1,2,3])\n",
    "print(np.dot(a,b).mean())\n",
    "print(c.mean())\n"
   ]
  },
  {
   "cell_type": "code",
   "execution_count": 3,
   "metadata": {},
   "outputs": [],
   "source": [
    "x = np.array([1, 2, 3, 4], dtype=np.float32)\n",
    "y = np.array([2, 4, 6, 8], dtype=np.float32)\n",
    "w=0.0\n",
    "# w=10.0"
   ]
  },
  {
   "cell_type": "code",
   "execution_count": 4,
   "metadata": {},
   "outputs": [],
   "source": [
    "def forward(x):\n",
    "    return w*x\n",
    "\n",
    "def loss(y_pred,y):\n",
    "    return ((y_pred-y)**2).mean()\n",
    "\n",
    "def gradient(x,y,y_pred):\n",
    "    # print(2*x*(y_pred-y))\n",
    "    return np.mean(2*x*(y_pred-y))\n"
   ]
  },
  {
   "cell_type": "code",
   "execution_count": 5,
   "metadata": {},
   "outputs": [
    {
     "name": "stdout",
     "output_type": "stream",
     "text": [
      "-2.0\n"
     ]
    }
   ],
   "source": [
    "print(gradient(x,y,[2,4,6,7]))"
   ]
  },
  {
   "cell_type": "markdown",
   "metadata": {},
   "source": [
    "***Making the regressor:***"
   ]
  },
  {
   "cell_type": "code",
   "execution_count": 6,
   "metadata": {},
   "outputs": [],
   "source": [
    "learning_rate=0.01\n",
    "n_iters=20"
   ]
  },
  {
   "cell_type": "markdown",
   "metadata": {},
   "source": [
    "***TEST***"
   ]
  },
  {
   "cell_type": "code",
   "execution_count": 7,
   "metadata": {},
   "outputs": [],
   "source": [
    "W=0.0\n",
    "n_iters=24"
   ]
  },
  {
   "cell_type": "code",
   "execution_count": 8,
   "metadata": {},
   "outputs": [
    {
     "name": "stdout",
     "output_type": "stream",
     "text": [
      "epoch no: 0 ,loss= 30.0,w=0.3\n",
      "epoch no: 2 ,loss= 15.7,w=0.772\n",
      "epoch no: 4 ,loss= 8.17,w=1.11\n",
      "epoch no: 6 ,loss= 4.27,w=1.36\n",
      "epoch no: 8 ,loss= 2.23,w=1.54\n",
      "epoch no: 10 ,loss= 1.16,w=1.67\n",
      "epoch no: 12 ,loss= 0.607,w=1.76\n",
      "epoch no: 14 ,loss= 0.317,w=1.83\n",
      "epoch no: 16 ,loss= 0.165,w=1.87\n",
      "epoch no: 18 ,loss= 0.0863,w=1.91\n",
      "epoch no: 20 ,loss= 0.0451,w=1.93\n",
      "epoch no: 22 ,loss= 0.0235,w=1.95\n",
      "epoch no: 24 ,loss= 0.0123,w=1.97\n",
      "9.82802191078663\n"
     ]
    }
   ],
   "source": [
    "for epoch in range(n_iters+1):\n",
    "    #forward pass:\n",
    "    y_pred=forward(x)\n",
    "    \n",
    "    #calculating the loss:\n",
    "    l=loss(y_pred,y)\n",
    "\n",
    "    #calculating the gradients:\n",
    "    dw=gradient(x,y,y_pred)\n",
    "\n",
    "    #updating the weights:\n",
    "    w -= learning_rate*dw\n",
    "\n",
    "    if(epoch%2==0):\n",
    "        print(f\"epoch no: {epoch} ,loss= {l:.3},w={w:.3}\")\n",
    "print(forward(5))\n"
   ]
  }
 ],
 "metadata": {
  "kernelspec": {
   "display_name": "Python 3",
   "language": "python",
   "name": "python3"
  },
  "language_info": {
   "codemirror_mode": {
    "name": "ipython",
    "version": 3
   },
   "file_extension": ".py",
   "mimetype": "text/x-python",
   "name": "python",
   "nbconvert_exporter": "python",
   "pygments_lexer": "ipython3",
   "version": "3.11.4"
  }
 },
 "nbformat": 4,
 "nbformat_minor": 2
}
